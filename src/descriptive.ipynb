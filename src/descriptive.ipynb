{
 "cells": [
  {
   "cell_type": "code",
   "execution_count": 31,
   "metadata": {},
   "outputs": [],
   "source": [
    "import os\n",
    "import pandas as pd\n",
    "import collections\n",
    "import matplotlib.pyplot as plt\n",
    "from matplotlib.ticker import MultipleLocator\n",
    "import re\n",
    "import numpy as np\n",
    "import spacy\n",
    "import textdescriptives as td\n",
    "from tqdm import tqdm\n",
    "import seaborn as sns"
   ]
  },
  {
   "cell_type": "code",
   "execution_count": null,
   "metadata": {},
   "outputs": [
    {
     "name": "stdout",
     "output_type": "stream",
     "text": [
      "Loading file: hp_coffeeshop.csv\n",
      "Finished loading file: hp_coffeeshop.csv\n",
      "Loading file: hp_vampire.csv\n",
      "Finished loading file: hp_vampire.csv\n",
      "Loading file: mcu_vampire.csv\n",
      "Finished loading file: mcu_vampire.csv\n",
      "Loading file: bts_vampire.csv\n",
      "Finished loading file: bts_vampire.csv\n",
      "Loading file: bnha_royalty.csv\n",
      "Finished loading file: bnha_royalty.csv\n",
      "Loading file: mcu_royalty.csv\n",
      "Finished loading file: mcu_royalty.csv\n",
      "Loading file: mcu_coffeeshop.csv\n",
      "Finished loading file: mcu_coffeeshop.csv\n",
      "Loading file: bnha_coffeeshop.csv\n",
      "Finished loading file: bnha_coffeeshop.csv\n",
      "Loading file: bts_coffeeshop.csv\n",
      "Finished loading file: bts_coffeeshop.csv\n",
      "Loading file: bnha_vampire.csv\n",
      "Finished loading file: bnha_vampire.csv\n",
      "Loading file: mcu_soulmates.csv\n",
      "Finished loading file: mcu_soulmates.csv\n",
      "Loading file: bts_soulmates.csv\n",
      "Finished loading file: bts_soulmates.csv\n",
      "Loading file: hp_royalty.csv\n",
      "Finished loading file: hp_royalty.csv\n",
      "Loading file: hp_soulmates.csv\n",
      "Finished loading file: hp_soulmates.csv\n",
      "Loading file: bnha_soulmates.csv\n",
      "Finished loading file: bnha_soulmates.csv\n",
      "Loading file: bts_royalty.csv\n",
      "Finished loading file: bts_royalty.csv\n"
     ]
    }
   ],
   "source": [
    "def load_data(path_to_folder):\n",
    "    all_files = os.listdir(path_to_folder) \n",
    "    valid_files = [file for file in all_files if 'errors' not in file] # remove error logs\n",
    "    dfs = []\n",
    "    for file in valid_files:\n",
    "        file_path = os.path.join(path_to_folder, file)\n",
    "        filename = str(file.split('.')[0])\n",
    "        fandom = str(filename.split('_')[0])\n",
    "        au = str(filename.split('_')[1])\n",
    "        try:\n",
    "            print(f\"Loading file: {file}\")\n",
    "            df = pd.read_csv(file_path)\n",
    "            df['Main fandom'] = fandom\n",
    "            df['Main AU'] = au\n",
    "            dfs.append(df) # load files into list of dfs\n",
    "            print(f\"Finished loading file: {file}\")\n",
    "        except Exception as e:\n",
    "            print(f\"Could not read {file}: {e}\") # in case sth is missed\n",
    "    big_df = pd.concat(dfs, ignore_index=True) # pull into df\n",
    "    return big_df\n",
    "\n",
    "path = os.path.join('..', '..', 'texts')\n",
    "df = load_data(path)"
   ]
  },
  {
   "cell_type": "code",
   "execution_count": 3,
   "metadata": {},
   "outputs": [],
   "source": [
    "def str_to_list(value):\n",
    "    if pd.isna(value): \n",
    "        value = []\n",
    "        return value\n",
    "    elif isinstance(value, str):\n",
    "        value = value.strip(\"[]\").replace(\"'\", \"\").split(\", \")\n",
    "        return value\n",
    "    else:\n",
    "        pass\n",
    "    \n",
    "def str_cols_to_list(data, cols):\n",
    "    for col in cols:\n",
    "        data[col] = data[col].apply(str_to_list)\n",
    "    return data\n",
    "\n",
    "def str_to_int(value):\n",
    "    if pd.isna(value): \n",
    "        value = 0\n",
    "        value = int(value)\n",
    "        return value\n",
    "    elif isinstance(value, int):\n",
    "        pass\n",
    "    elif isinstance(value, float):\n",
    "        value = int(value)\n",
    "        return(value)\n",
    "    elif isinstance(value, str):\n",
    "        value = value.replace(\",\", \"\").replace(\".0\", \"\")\n",
    "        value = int(value)\n",
    "        return value\n",
    "    else:\n",
    "        print(f\"Look at this weird value: {value}\")\n",
    "\n",
    "def str_cols_to_int(data, cols):\n",
    "    for col in cols:\n",
    "        data[col] = data[col].apply(str_to_int)\n",
    "    return data\n",
    "\n",
    "def str_to_date(data, cols):\n",
    "    for col in cols:\n",
    "        data[col] = pd.to_datetime(data[col], errors='coerce')\n",
    "    return data\n",
    "\n",
    "df[['current_chapters', 'total_chapters']] = df['chapters'].str.split('/', expand=True)\n",
    "df = df.drop(columns=['chapters'])\n",
    "\n",
    "str_columns = ['author', 'category', 'fandom', 'relationship', 'character', 'additional tags', 'all_kudos']\n",
    "df = str_cols_to_list(df, str_columns)\n",
    "\n",
    "int_columns = ['words', 'comments', 'kudos', 'bookmarks', 'hits']\n",
    "df = str_cols_to_int(df, int_columns)\n",
    "\n",
    "date_cols = ['published', 'status date']\n",
    "df = str_to_date(df, date_cols)"
   ]
  },
  {
   "cell_type": "code",
   "execution_count": 5,
   "metadata": {},
   "outputs": [],
   "source": [
    "len_orig = df.shape[0]"
   ]
  },
  {
   "cell_type": "code",
   "execution_count": null,
   "metadata": {},
   "outputs": [],
   "source": [
    "cross_df = pd.read_csv(), header=None)\n",
    "cross_values = cross_df.iloc[:, 0].values\n",
    "df = df[~df['work_id'].isin(cross_values)]"
   ]
  },
  {
   "cell_type": "code",
   "execution_count": 8,
   "metadata": {},
   "outputs": [],
   "source": [
    "len_no_xover = df.shape[0]"
   ]
  },
  {
   "cell_type": "code",
   "execution_count": 12,
   "metadata": {},
   "outputs": [],
   "source": [
    "df = df.drop_duplicates(subset='work_id')"
   ]
  },
  {
   "cell_type": "code",
   "execution_count": 13,
   "metadata": {},
   "outputs": [],
   "source": [
    "len_no_dupes = df.shape[0]"
   ]
  },
  {
   "cell_type": "code",
   "execution_count": 9,
   "metadata": {},
   "outputs": [],
   "source": [
    "df = df[df['words'] >= 600]"
   ]
  },
  {
   "cell_type": "code",
   "execution_count": 11,
   "metadata": {},
   "outputs": [],
   "source": [
    "len_length = df.shape[0]"
   ]
  },
  {
   "cell_type": "code",
   "execution_count": 12,
   "metadata": {},
   "outputs": [
    {
     "name": "stderr",
     "output_type": "stream",
     "text": [
      "100%|██████████| 26938/26938 [00:26<00:00, 1015.21it/s]\n"
     ]
    }
   ],
   "source": [
    "snippets = []\n",
    "\n",
    "for text in tqdm(list(df[\"body\"]), total=df.shape[0]):\n",
    "    text = str(text)\n",
    "    clean_text = text.replace(\"\\n\", \" \")\n",
    "    tokenized_text = clean_text.split(\" \")\n",
    "    tokenized_text = [token for token in tokenized_text if token != \"\"]\n",
    "\n",
    "    snippets.append(\" \".join(tokenized_text[100:600]))\n"
   ]
  },
  {
   "cell_type": "code",
   "execution_count": 13,
   "metadata": {},
   "outputs": [
    {
     "data": {
      "text/plain": [
       "<spacy.lang.en.English at 0x7f5ef42cb2c0>"
      ]
     },
     "execution_count": 13,
     "metadata": {},
     "output_type": "execute_result"
    }
   ],
   "source": [
    "spacy.load(\"en_core_web_lg\")"
   ]
  },
  {
   "cell_type": "code",
   "execution_count": null,
   "metadata": {},
   "outputs": [
    {
     "name": "stderr",
     "output_type": "stream",
     "text": [
      "100%|██████████| 26938/26938 [51:28<00:00,  8.72it/s]  \n"
     ]
    }
   ],
   "source": [
    "metrics = td.extract_metrics(\n",
    "    text=tqdm(snippets), \n",
    "    spacy_model='en_core_web_lg', \n",
    "    metrics=['quality'])\n",
    "df['passed_qual_check'] = list(metrics['passed_quality_check'])"
   ]
  },
  {
   "cell_type": "code",
   "execution_count": 14,
   "metadata": {},
   "outputs": [],
   "source": [
    "df['passed_qual_check'] = np.random.choice([True, False], size=len(df))"
   ]
  },
  {
   "cell_type": "code",
   "execution_count": 17,
   "metadata": {},
   "outputs": [],
   "source": [
    "df = df[df['passed_qual_check'] == True]"
   ]
  },
  {
   "cell_type": "code",
   "execution_count": 18,
   "metadata": {},
   "outputs": [],
   "source": [
    "len_final = df.shape[0]"
   ]
  },
  {
   "cell_type": "code",
   "execution_count": 19,
   "metadata": {},
   "outputs": [],
   "source": [
    "prep_stats_path = os.path.join(\"..\", \"out\", \"prep_stats.txt\")\n",
    "with open(prep_stats_path, \"w\") as file:\n",
    "    file.write(f\"Original number of fics: {len_orig}\\n\")\n",
    "    file.write(f\"After removing crossovers: {len_no_xover}\\n\")\n",
    "    file.write(f\"After removing removing duplicates: {len_no_dupes}\\n\")\n",
    "    file.write(f\"After removing fics of insufficient length: {len_length}\\n\")\n",
    "    file.write(f\"After removing fics of insufficient quality: {len_final}\\n\")"
   ]
  },
  {
   "cell_type": "code",
   "execution_count": 21,
   "metadata": {},
   "outputs": [],
   "source": [
    "au_fandom_counts = pd.crosstab(df['Main AU'], df['Main fandom'])"
   ]
  },
  {
   "cell_type": "code",
   "execution_count": 23,
   "metadata": {},
   "outputs": [],
   "source": [
    "au_fandom_path = os.path.join(\"..\", \"out\", \"au_fandom_counts.csv\")\n",
    "au_fandom_counts.to_csv(au_fandom_path)"
   ]
  },
  {
   "cell_type": "code",
   "execution_count": null,
   "metadata": {},
   "outputs": [],
   "source": [
    "pickle_path = os.path.join(\"..\", \"obj\", \"prepped_data.pkl\")\n",
    "df.to_pickle(pickle_path)"
   ]
  },
  {
   "cell_type": "code",
   "execution_count": 33,
   "metadata": {},
   "outputs": [
    {
     "data": {
      "image/png": "[encoded data removed]",
      "text/plain": [
       "<Figure size 1200x1200 with 16 Axes>"
      ]
     },
     "metadata": {},
     "output_type": "display_data"
    }
   ],
   "source": [
    "# Define fixed bin edges (0, 1, 10, 100, 1000, 10000, ...)\n",
    "bins = [0, 1, 10, 100, 1_000, 10_000, 100_000, 1_000_000]  \n",
    "bin_labels = [f\"{bins[i]}-{bins[i+1]-1}\" for i in range(len(bins)-1)]\n",
    "df[\"word_bins\"] = pd.cut(df[\"words\"], bins=bins, labels=bin_labels, include_lowest=True)\n",
    "\n",
    "# Plot\n",
    "g = sns.FacetGrid(df, col=\"Main AU\", row=\"Main fandom\", margin_titles=True, sharex=True, sharey=True)\n",
    "g.map_dataframe(sns.histplot, x=\"words\", bins=bins)\n",
    "\n",
    "# Adjust aesthetics\n",
    "g.set_axis_labels(\"Word Count\", \"Frequency\")\n",
    "g.set_titles(row_template=\"{row_name}\", col_template=\"{col_name}\")\n",
    "g.set(xscale=\"log\")  # Log-scale x-axis for proper binning\n",
    "plt.show()"
   ]
  }
 ],
 "metadata": {
  "kernelspec": {
   "display_name": "Python 3",
   "language": "python",
   "name": "python3"
  },
  "language_info": {
   "codemirror_mode": {
    "name": "ipython",
    "version": 3
   },
   "file_extension": ".py",
   "mimetype": "text/x-python",
   "name": "python",
   "nbconvert_exporter": "python",
   "pygments_lexer": "ipython3",
   "version": "3.12.3"
  }
 },
 "nbformat": 4,
 "nbformat_minor": 2
}
