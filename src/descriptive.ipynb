{
 "cells": [
  {
   "cell_type": "code",
   "execution_count": 12,
   "metadata": {},
   "outputs": [],
   "source": [
    "import os\n",
    "import pandas as pd\n",
    "import collections\n",
    "import matplotlib.pyplot as plt\n",
    "from matplotlib.ticker import MultipleLocator\n",
    "import re\n",
    "import numpy as np"
   ]
  },
  {
   "cell_type": "code",
   "execution_count": null,
   "metadata": {},
   "outputs": [],
   "source": [
    "def load_data(path_to_folder):\n",
    "    all_files = os.listdir(path_to_folder) # get all files\n",
    "    valid_files = [file for file in all_files if 'errors' not in file] # remove error logs\n",
    "    dfs = [] # empty list\n",
    "    for file in valid_files:\n",
    "        file_path = os.path.join(path_to_folder, file)\n",
    "        filename = str(file.split('.')[0])\n",
    "        fandom = str(filename.split('_')[0])\n",
    "        au = str(filename.split('_')[1])\n",
    "        try:\n",
    "            print(f\"Loading file: {file}\")\n",
    "            df = pd.read_csv(file_path)\n",
    "            df['Main fandom'] = fandom\n",
    "            df['Main AU'] = au\n",
    "            dfs.append(df) # load files into list of dfs\n",
    "            print(f\"Finished loading file: {file}\")\n",
    "        except Exception as e:\n",
    "            print(f\"Could not read {file}: {e}\") # in case sth is missed\n",
    "    big_df = pd.concat(dfs, ignore_index=True) # pull into df\n",
    "    return big_df"
   ]
  },
  {
   "cell_type": "code",
   "execution_count": 3,
   "metadata": {},
   "outputs": [],
   "source": [
    "path = os.path.join('..', '..', 'texts')"
   ]
  },
  {
   "cell_type": "code",
   "execution_count": 19,
   "metadata": {},
   "outputs": [
    {
     "name": "stdout",
     "output_type": "stream",
     "text": [
      "hp_coffeeshop\n",
      "Loading file: hp_coffeeshop.csv\n",
      "Finished loading file: hp_coffeeshop.csv\n",
      "hp_vampire\n",
      "Loading file: hp_vampire.csv\n",
      "Finished loading file: hp_vampire.csv\n",
      "mcu_vampire\n",
      "Loading file: mcu_vampire.csv\n",
      "Finished loading file: mcu_vampire.csv\n",
      "bts_vampire\n",
      "Loading file: bts_vampire.csv\n",
      "Finished loading file: bts_vampire.csv\n",
      "bnha_royalty\n",
      "Loading file: bnha_royalty.csv\n",
      "Finished loading file: bnha_royalty.csv\n",
      "mcu_royalty\n",
      "Loading file: mcu_royalty.csv\n",
      "Finished loading file: mcu_royalty.csv\n",
      "mcu_coffeeshop\n",
      "Loading file: mcu_coffeeshop.csv\n",
      "Finished loading file: mcu_coffeeshop.csv\n",
      "bnha_coffeeshop\n",
      "Loading file: bnha_coffeeshop.csv\n",
      "Finished loading file: bnha_coffeeshop.csv\n",
      "bts_coffeeshop\n",
      "Loading file: bts_coffeeshop.csv\n",
      "Finished loading file: bts_coffeeshop.csv\n",
      "bnha_vampire\n",
      "Loading file: bnha_vampire.csv\n",
      "Finished loading file: bnha_vampire.csv\n",
      "mcu_soulmates\n",
      "Loading file: mcu_soulmates.csv\n",
      "Finished loading file: mcu_soulmates.csv\n",
      "bts_soulmates\n",
      "Loading file: bts_soulmates.csv\n",
      "Finished loading file: bts_soulmates.csv\n",
      "hp_royalty\n",
      "Loading file: hp_royalty.csv\n",
      "Finished loading file: hp_royalty.csv\n",
      "hp_soulmates\n",
      "Loading file: hp_soulmates.csv\n",
      "Finished loading file: hp_soulmates.csv\n",
      "bnha_soulmates\n",
      "Loading file: bnha_soulmates.csv\n",
      "Finished loading file: bnha_soulmates.csv\n",
      "bts_royalty\n",
      "Loading file: bts_royalty.csv\n",
      "Finished loading file: bts_royalty.csv\n"
     ]
    }
   ],
   "source": [
    "df = load_data(path)"
   ]
  },
  {
   "cell_type": "code",
   "execution_count": 23,
   "metadata": {},
   "outputs": [
    {
     "data": {
      "text/plain": [
       "Index(['work_id', 'title', 'author', 'rating', 'category', 'fandom',\n",
       "       'relationship', 'character', 'additional tags', 'language', 'published',\n",
       "       'status', 'status date', 'words', 'chapters', 'comments', 'kudos',\n",
       "       'bookmarks', 'hits', 'all_kudos', 'all_bookmarks', 'body',\n",
       "       'Main fandom', 'Main AU'],\n",
       "      dtype='object')"
      ]
     },
     "execution_count": 23,
     "metadata": {},
     "output_type": "execute_result"
    }
   ],
   "source": [
    "df.columns"
   ]
  },
  {
   "cell_type": "code",
   "execution_count": 11,
   "metadata": {},
   "outputs": [],
   "source": [
    "df = df.drop_duplicates(subset='work_id')"
   ]
  },
  {
   "cell_type": "code",
   "execution_count": 33,
   "metadata": {},
   "outputs": [
    {
     "name": "stdout",
     "output_type": "stream",
     "text": [
      "[<class 'str'> <class 'float'>]\n"
     ]
    }
   ],
   "source": [
    "unique_types = df['words'].apply(type).unique()\n",
    "print(unique_types)"
   ]
  },
  {
   "cell_type": "code",
   "execution_count": 20,
   "metadata": {},
   "outputs": [
    {
     "data": {
      "text/plain": [
       "work_id             int64\n",
       "title              object\n",
       "author             object\n",
       "rating             object\n",
       "category           object\n",
       "fandom             object\n",
       "relationship       object\n",
       "character          object\n",
       "additional tags    object\n",
       "language           object\n",
       "published          object\n",
       "status             object\n",
       "status date        object\n",
       "words              object\n",
       "chapters           object\n",
       "comments           object\n",
       "kudos              object\n",
       "bookmarks          object\n",
       "hits               object\n",
       "all_kudos          object\n",
       "all_bookmarks      object\n",
       "body               object\n",
       "Main fandom        object\n",
       "Main AU            object\n",
       "dtype: object"
      ]
     },
     "execution_count": 20,
     "metadata": {},
     "output_type": "execute_result"
    }
   ],
   "source": [
    "df.dtypes"
   ]
  },
  {
   "cell_type": "code",
   "execution_count": 5,
   "metadata": {},
   "outputs": [],
   "source": [
    "def str_to_list(value):\n",
    "    if pd.isna(value): \n",
    "        value = []\n",
    "        return value\n",
    "    elif isinstance(value, str):\n",
    "        value = value.strip(\"[]\").replace(\"'\", \"\").split(\", \")\n",
    "        return value\n",
    "    else:\n",
    "        pass\n",
    "    \n",
    "def str_cols_to_list(data, cols):\n",
    "    for col in cols:\n",
    "        data[col] = data[col].apply(str_to_list)\n",
    "    return data"
   ]
  },
  {
   "cell_type": "code",
   "execution_count": 21,
   "metadata": {},
   "outputs": [],
   "source": [
    "str_columns = ['author', 'category', 'fandom', 'relationship', 'character', 'additional tags', 'all_kudos']\n",
    "df = str_cols_to_list(df, str_columns)"
   ]
  },
  {
   "cell_type": "code",
   "execution_count": 7,
   "metadata": {},
   "outputs": [],
   "source": [
    "def str_to_int(value):\n",
    "    if pd.isna(value): \n",
    "        value = 0\n",
    "        value = int(value)\n",
    "        return value\n",
    "    elif isinstance(value, int):\n",
    "        pass\n",
    "    elif isinstance(value, float):\n",
    "        value = int(value)\n",
    "        return(value)\n",
    "    elif isinstance(value, str):\n",
    "        value = value.replace(\",\", \"\").replace(\".0\", \"\")\n",
    "        value = int(value)\n",
    "        return value\n",
    "    else:\n",
    "        print(f\"Look at this weird value: {value}\")\n",
    "\n",
    "def str_cols_to_int(data, cols):\n",
    "    for col in cols:\n",
    "        data[col] = data[col].apply(str_to_int)\n",
    "    return data"
   ]
  },
  {
   "cell_type": "code",
   "execution_count": 22,
   "metadata": {},
   "outputs": [],
   "source": [
    "int_columns = ['words', 'comments', 'kudos', 'bookmarks', 'hits']\n",
    "df = str_cols_to_int(df, int_columns)"
   ]
  },
  {
   "cell_type": "code",
   "execution_count": 23,
   "metadata": {},
   "outputs": [],
   "source": [
    "test=pd.DataFrame"
   ]
  },
  {
   "cell_type": "code",
   "execution_count": 25,
   "metadata": {},
   "outputs": [],
   "source": [
    "def int_to_log(value):\n",
    "    if value!=0:\n",
    "        value = np.log10(value)\n",
    "    return value\n",
    "def int_cols_to_log(data, cols):\n",
    "    for col in cols:\n",
    "        data[f'log_{col}'] = data[col].apply(int_to_log)\n",
    "    return data"
   ]
  },
  {
   "cell_type": "code",
   "execution_count": 28,
   "metadata": {},
   "outputs": [],
   "source": [
    "int_columns = ['words', 'comments', 'kudos', 'bookmarks', 'hits']\n",
    "df = int_cols_to_log(df, int_columns)"
   ]
  },
  {
   "cell_type": "code",
   "execution_count": 29,
   "metadata": {},
   "outputs": [
    {
     "data": {
      "text/plain": [
       "work_id              int64\n",
       "title               object\n",
       "author              object\n",
       "rating              object\n",
       "category            object\n",
       "fandom              object\n",
       "relationship        object\n",
       "character           object\n",
       "additional tags     object\n",
       "language            object\n",
       "published           object\n",
       "status              object\n",
       "status date         object\n",
       "words                int64\n",
       "chapters            object\n",
       "comments             int64\n",
       "kudos                int64\n",
       "bookmarks            int64\n",
       "hits                 int64\n",
       "all_kudos           object\n",
       "all_bookmarks       object\n",
       "body                object\n",
       "Main fandom         object\n",
       "Main AU             object\n",
       "log_words          float64\n",
       "log_comments       float64\n",
       "log_kudos          float64\n",
       "log_bookmarks      float64\n",
       "log_hits           float64\n",
       "dtype: object"
      ]
     },
     "execution_count": 29,
     "metadata": {},
     "output_type": "execute_result"
    }
   ],
   "source": [
    "df.dtypes"
   ]
  },
  {
   "cell_type": "code",
   "execution_count": 9,
   "metadata": {},
   "outputs": [
    {
     "data": {
      "text/plain": [
       "0       4457\n",
       "1     113031\n",
       "2        574\n",
       "3      37345\n",
       "4       5653\n",
       "5       3452\n",
       "6       6182\n",
       "7      25406\n",
       "8       3184\n",
       "9       1875\n",
       "10     19856\n",
       "11     12735\n",
       "12     32581\n",
       "13     16707\n",
       "14      9077\n",
       "15      4976\n",
       "16       580\n",
       "17       797\n",
       "18      3302\n",
       "19      2515\n",
       "Name: words, dtype: int64"
      ]
     },
     "execution_count": 9,
     "metadata": {},
     "output_type": "execute_result"
    }
   ],
   "source": [
    "df.iloc[0:20, 13]"
   ]
  },
  {
   "cell_type": "code",
   "execution_count": 84,
   "metadata": {},
   "outputs": [
    {
     "data": {
      "text/plain": [
       "0      0\n",
       "1     72\n",
       "2      0\n",
       "3     20\n",
       "4     32\n",
       "5     13\n",
       "6      6\n",
       "7     89\n",
       "8      1\n",
       "9      4\n",
       "10     2\n",
       "11    35\n",
       "12    17\n",
       "13     0\n",
       "14     0\n",
       "15     5\n",
       "16     6\n",
       "17     0\n",
       "18     2\n",
       "19     0\n",
       "Name: comments, dtype: int64"
      ]
     },
     "execution_count": 84,
     "metadata": {},
     "output_type": "execute_result"
    }
   ],
   "source": [
    "df.iloc[0:20, 15]"
   ]
  },
  {
   "cell_type": "code",
   "execution_count": 85,
   "metadata": {},
   "outputs": [
    {
     "data": {
      "text/plain": [
       "0       1\n",
       "1     151\n",
       "2       2\n",
       "3     292\n",
       "4      15\n",
       "5      11\n",
       "6      64\n",
       "7     169\n",
       "8      46\n",
       "9      13\n",
       "10     29\n",
       "11    276\n",
       "12     97\n",
       "13      3\n",
       "14     14\n",
       "15     55\n",
       "16      9\n",
       "17      1\n",
       "18      5\n",
       "19      7\n",
       "Name: kudos, dtype: int64"
      ]
     },
     "execution_count": 85,
     "metadata": {},
     "output_type": "execute_result"
    }
   ],
   "source": [
    "df.iloc[0:20, 16]"
   ]
  },
  {
   "cell_type": "code",
   "execution_count": 86,
   "metadata": {},
   "outputs": [
    {
     "data": {
      "text/plain": [
       "0       0\n",
       "1      56\n",
       "2       0\n",
       "3     183\n",
       "4       3\n",
       "5       5\n",
       "6       8\n",
       "7      38\n",
       "8       4\n",
       "9       0\n",
       "10      6\n",
       "11     53\n",
       "12     53\n",
       "13      0\n",
       "14      3\n",
       "15      8\n",
       "16      1\n",
       "17      0\n",
       "18      1\n",
       "19      1\n",
       "Name: bookmarks, dtype: int64"
      ]
     },
     "execution_count": 86,
     "metadata": {},
     "output_type": "execute_result"
    }
   ],
   "source": [
    "df.iloc[0:20, 17]"
   ]
  },
  {
   "cell_type": "code",
   "execution_count": 87,
   "metadata": {},
   "outputs": [
    {
     "data": {
      "text/plain": [
       "0       0\n",
       "1      56\n",
       "2       0\n",
       "3     183\n",
       "4       3\n",
       "5       5\n",
       "6       8\n",
       "7      38\n",
       "8       4\n",
       "9       0\n",
       "10      6\n",
       "11     53\n",
       "12     53\n",
       "13      0\n",
       "14      3\n",
       "15      8\n",
       "16      1\n",
       "17      0\n",
       "18      1\n",
       "19      1\n",
       "Name: bookmarks, dtype: int64"
      ]
     },
     "execution_count": 87,
     "metadata": {},
     "output_type": "execute_result"
    }
   ],
   "source": [
    "df.iloc[0:20, 17]"
   ]
  },
  {
   "cell_type": "code",
   "execution_count": null,
   "metadata": {},
   "outputs": [],
   "source": [
    "df['hits'].plot(kind='hist', bins=1000000)\n",
    "plt.ylim(0, 10)\n",
    "plt.xlim(0, 1000000)"
   ]
  },
  {
   "cell_type": "code",
   "execution_count": 8,
   "metadata": {},
   "outputs": [],
   "source": [
    "meta = df.drop(columns='body')\n",
    "txt = df[['work_id', 'body', 'Main fandom', 'Main AU']]"
   ]
  }
 ],
 "metadata": {
  "kernelspec": {
   "display_name": "Python 3",
   "language": "python",
   "name": "python3"
  },
  "language_info": {
   "codemirror_mode": {
    "name": "ipython",
    "version": 3
   },
   "file_extension": ".py",
   "mimetype": "text/x-python",
   "name": "python",
   "nbconvert_exporter": "python",
   "pygments_lexer": "ipython3",
   "version": "3.12.3"
  }
 },
 "nbformat": 4,
 "nbformat_minor": 2
}
